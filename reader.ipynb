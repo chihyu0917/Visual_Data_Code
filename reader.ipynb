{
 "cells": [
  {
   "cell_type": "code",
   "execution_count": 1,
   "metadata": {},
   "outputs": [],
   "source": [
    "import pandas as pd\n",
    "import csv\n",
    "\n",
    "path = '/Volumes/LaCie/04_111project/data of project/202001/vdtrafonetab_info_001.csv'\n",
    "df = pd.read_csv(path , header= None)"
   ]
  },
  {
   "cell_type": "code",
   "execution_count": 2,
   "metadata": {},
   "outputs": [],
   "source": [
    "PositionLon = df[2]\n",
    "PositionLat = df[3]\n",
    "RoadID = df[4] #道路路名碼\n",
    "RoadName = df[5] #道路名稱\n",
    "BIGVOLUME = df[8] #大車的流量\n",
    "BIGSPEED = df[9] #大車的速率\n",
    "CARVOLUME = df[10] #汽車的流量\n",
    "CARSPEED = df[11] #汽車的速率\n",
    "MOTORVOLUME = df[12] #機車的流量\n",
    "MOTORSPEED = df[13] #機車的速率\n",
    "AVGSPEED = df[14]\n",
    "FREESPD = df[22] #速限"
   ]
  },
  {
   "cell_type": "code",
   "execution_count": 5,
   "metadata": {},
   "outputs": [],
   "source": [
    "# print(df[2][:5], df[3][:5])\n",
    "# data = {'PositionLon': list(df[2][:5]), 'PositionLat': list(df[3][:5]), 'RoadID': list(df[4][:5]), 'RoadName': list(df[5][:5]), 'BIGVOLUME': list(df[8][:5]), 'BIGSPEED': list(df[9][:5]), 'CARVOLUME': list(df[10][:5]), 'CARSPEED': list(df[11][:5]), 'MOTORVOLUME': list(df[12][:5]), 'MOTORSPEED': list(df[13][:5]), 'AVGSPEED': list(df[14][:5]), 'FREESPD': list(df[22][:5])}\n",
    "data = {'PositionLon': list(PositionLon), 'PositionLat': list(PositionLat), 'RoadID': list(RoadID), 'RoadName': list(RoadName), 'BIGVOLUME': list(BIGVOLUME), 'BIGSPEED': list(BIGSPEED), 'CARVOLUME': list(CARVOLUME), 'CARSPEED': list(CARSPEED), 'MOTORVOLUME': list(MOTORVOLUME), 'MOTORSPEED': list(MOTORSPEED), 'AVGSPEED': list(AVGSPEED), 'FREESPD': list(FREESPD)}\n",
    "df2 = pd.DataFrame(data)\n",
    "df2.to_csv( '/Volumes/LaCie/05_data/202001/vdtrafonetab_info_001.csv', index = False, header = False, encoding='utf-8')"
   ]
  }
 ],
 "metadata": {
  "kernelspec": {
   "display_name": "Python 3.10.7 64-bit",
   "language": "python",
   "name": "python3"
  },
  "language_info": {
   "codemirror_mode": {
    "name": "ipython",
    "version": 3
   },
   "file_extension": ".py",
   "mimetype": "text/x-python",
   "name": "python",
   "nbconvert_exporter": "python",
   "pygments_lexer": "ipython3",
   "version": "3.10.7"
  },
  "orig_nbformat": 4,
  "vscode": {
   "interpreter": {
    "hash": "aee8b7b246df8f9039afb4144a1f6fd8d2ca17a180786b69acc140d282b71a49"
   }
  }
 },
 "nbformat": 4,
 "nbformat_minor": 2
}
