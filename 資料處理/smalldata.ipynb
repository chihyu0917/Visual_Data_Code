{
 "cells": [
  {
   "cell_type": "code",
   "execution_count": 15,
   "metadata": {},
   "outputs": [
    {
     "name": "stderr",
     "output_type": "stream",
     "text": [
      "/var/folders/wy/jg1kdpcn0g1gvsr0j6w4sh3h0000gn/T/ipykernel_82117/1315044308.py:5: DtypeWarning: Columns (0,1,4,5,6,7,8,9,10,11) have mixed types. Specify dtype option on import or set low_memory=False.\n",
      "  df = pd.read_csv(path , header= None)\n"
     ]
    }
   ],
   "source": [
    "import pandas as pd\n",
    "import csv\n",
    "\n",
    "path = '/Users/siowanchoi/Desktop/專題/201801.csv'\n",
    "df = pd.read_csv(path , header= None)"
   ]
  },
  {
   "cell_type": "markdown",
   "metadata": {},
   "source": []
  },
  {
   "cell_type": "code",
   "execution_count": 16,
   "metadata": {},
   "outputs": [
    {
     "name": "stdout",
     "output_type": "stream",
     "text": [
      "     PositionLon  PositionLat   RoadID  RoadName  BIGVOLUME  BIGSPEED  \\\n",
      "0    PositionLon  PositionLat   RoadID  RoadName  BIGVOLUME  BIGSPEED   \n",
      "1      121.55778     25.04898  600083A      光復北路        2.0      14.0   \n",
      "2      121.52781     25.06761   200080    新生高架道路       11.0      83.0   \n",
      "3      121.52781     25.06761   200080    新生高架道路       10.0     107.0   \n",
      "4      121.57447     24.99505  600409A     新光路一段        0.0       0.0   \n",
      "..           ...          ...      ...       ...        ...       ...   \n",
      "495    121.52483     25.02712  600149A    和平東路一段        0.0       0.0   \n",
      "496    121.57195     25.03218   200030    信義快速道路        0.0       0.0   \n",
      "497     121.5316       25.052  600119A    南京東路二段        0.0       0.0   \n",
      "498     121.5316       25.052  600119A    南京東路二段        6.0      60.0   \n",
      "499     121.5316       25.052  600119A    南京東路二段        3.0      70.0   \n",
      "\n",
      "     CARVOLUME  CARSPEED  MOTORVOLUME  MOTORSPEED  AVGSPEED  FREESPD  \\\n",
      "0    CARVOLUME  CARSPEED  MOTORVOLUME  MOTORSPEED  AVGSPEED  FREESPD   \n",
      "1          6.0      14.0          0.0         0.0      14.0       60   \n",
      "2          0.0       0.0          0.0         0.0      83.0       60   \n",
      "3          0.0       0.0          0.0         0.0     107.0       60   \n",
      "4          6.0      48.0          0.0         0.0      48.0       60   \n",
      "..         ...       ...          ...         ...       ...      ...   \n",
      "495        3.0      29.0          0.0         0.0      29.0       60   \n",
      "496       17.0      37.0          0.0         0.0      37.0       60   \n",
      "497       12.0      48.0          0.0         0.0      48.0       60   \n",
      "498        7.0      60.0          0.0         0.0      60.0       60   \n",
      "499        1.0      70.0          0.0         0.0      70.0       60   \n",
      "\n",
      "                InfoTime    InfoData  \n",
      "0               InfoTime    InfoData  \n",
      "1    2018-01-10 08:29:00  2018-01-10  \n",
      "2    2018-01-10 08:29:00  2018-01-10  \n",
      "3    2018-01-10 08:29:00  2018-01-10  \n",
      "4    2018-01-10 08:29:00  2018-01-10  \n",
      "..                   ...         ...  \n",
      "495  2018-01-10 08:30:00  2018-01-10  \n",
      "496  2018-01-10 08:30:00  2018-01-10  \n",
      "497  2018-01-10 08:30:00  2018-01-10  \n",
      "498  2018-01-10 08:30:00  2018-01-10  \n",
      "499  2018-01-10 08:30:00  2018-01-10  \n",
      "\n",
      "[500 rows x 14 columns]\n"
     ]
    }
   ],
   "source": [
    "data = {'PositionLon': list(df[0][:800000]), \n",
    "        'PositionLat': list(df[1][:800000]), \n",
    "        'RoadID': list(df[2][:800000]), \n",
    "        'RoadName': list(df[3][:800000]), \n",
    "        'BIGVOLUME': list(df[4][:800000]), \n",
    "        'BIGSPEED': list(df[5][:800000]), \n",
    "        'CARVOLUME': list(df[6][:800000]), \n",
    "        'CARSPEED': list(df[7][:800000]), \n",
    "        'MOTORVOLUME': list(df[8][:800000]), \n",
    "        'MOTORSPEED': list(df[9][:800000]), \n",
    "        'AVGSPEED': list(df[10][:800000]), \n",
    "        'FREESPD': list(df[11][:800000]), \n",
    "        'InfoTime': list(df[12][:800000]), \n",
    "        'InfoData': list(df[13][:800000]) }\n",
    "df2 = pd.DataFrame(data)\n",
    "df2.to_csv( './test2.csv', index = False, header = False, encoding='utf-8')\n",
    "print(df2)"
   ]
  },
  {
   "cell_type": "code",
   "execution_count": 8,
   "metadata": {},
   "outputs": [
    {
     "name": "stdout",
     "output_type": "stream",
     "text": [
      "    PositionLon  PositionLat   RoadID  RoadName  BIGVOLUME  BIGSPEED  \\\n",
      "0   PositionLon  PositionLat   RoadID  RoadName  BIGVOLUME  BIGSPEED   \n",
      "1     121.55778     25.04898  600083A      光復北路        2.0      14.0   \n",
      "2     121.52781     25.06761   200080    新生高架道路       11.0      83.0   \n",
      "3     121.52781     25.06761   200080    新生高架道路       10.0     107.0   \n",
      "4     121.57447     24.99505  600409A     新光路一段        0.0       0.0   \n",
      "..          ...          ...      ...       ...        ...       ...   \n",
      "95     121.5251     25.08234  600030A    中山北路五段        0.0       0.0   \n",
      "96     121.5251     25.08234  600030A    中山北路五段        2.0      42.0   \n",
      "97    121.49869     25.03857  600502A       桂林路        0.0       0.0   \n",
      "98    121.49869     25.03857  600502A       桂林路        0.0       0.0   \n",
      "99    121.54097     25.06366  600886A       龍江路        0.0       0.0   \n",
      "\n",
      "    CARVOLUME  CARSPEED  MOTORVOLUME  MOTORSPEED  AVGSPEED  FREESPD  \\\n",
      "0   CARVOLUME  CARSPEED  MOTORVOLUME  MOTORSPEED  AVGSPEED  FREESPD   \n",
      "1         6.0      14.0          0.0         0.0      14.0       60   \n",
      "2         0.0       0.0          0.0         0.0      83.0       60   \n",
      "3         0.0       0.0          0.0         0.0     107.0       60   \n",
      "4         6.0      48.0          0.0         0.0      48.0       60   \n",
      "..        ...       ...          ...         ...       ...      ...   \n",
      "95        3.0      28.0          0.0         0.0      28.0       60   \n",
      "96        4.0      43.0          0.0         0.0      43.0       60   \n",
      "97        6.0      42.0          0.0         0.0      42.0       60   \n",
      "98        3.0      41.0          0.0         0.0      41.0       60   \n",
      "99        6.0      46.0          0.0         0.0      46.0       60   \n",
      "\n",
      "               InfoTime    InfoData  \n",
      "0              InfoTime    InfoData  \n",
      "1   2018-01-10 08:29:00  2018-01-10  \n",
      "2   2018-01-10 08:29:00  2018-01-10  \n",
      "3   2018-01-10 08:29:00  2018-01-10  \n",
      "4   2018-01-10 08:29:00  2018-01-10  \n",
      "..                  ...         ...  \n",
      "95  2018-01-10 08:30:00  2018-01-10  \n",
      "96  2018-01-10 08:30:00  2018-01-10  \n",
      "97  2018-01-10 08:30:00  2018-01-10  \n",
      "98  2018-01-10 08:30:00  2018-01-10  \n",
      "99  2018-01-10 08:30:00  2018-01-10  \n",
      "\n",
      "[100 rows x 14 columns]\n"
     ]
    }
   ],
   "source": [
    "print(df2)"
   ]
  }
 ],
 "metadata": {
  "kernelspec": {
   "display_name": "Python 3.10.7 64-bit",
   "language": "python",
   "name": "python3"
  },
  "language_info": {
   "codemirror_mode": {
    "name": "ipython",
    "version": 3
   },
   "file_extension": ".py",
   "mimetype": "text/x-python",
   "name": "python",
   "nbconvert_exporter": "python",
   "pygments_lexer": "ipython3",
   "version": "3.10.7"
  },
  "orig_nbformat": 4,
  "vscode": {
   "interpreter": {
    "hash": "aee8b7b246df8f9039afb4144a1f6fd8d2ca17a180786b69acc140d282b71a49"
   }
  }
 },
 "nbformat": 4,
 "nbformat_minor": 2
}
