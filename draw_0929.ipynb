{
 "cells": [
  {
   "cell_type": "code",
   "execution_count": 10,
   "id": "5224cb44",
   "metadata": {},
   "outputs": [],
   "source": [
    "import csv\n",
    "import pandas as pd\n",
    "import numpy as np\n",
    "import matplotlib.pyplot as plt\n",
    "plt.rcParams['agg.path.chunksize'] = 10000\n",
    "plt.rcParams['font.sans-serif'] = ['Arial Unicode MS']"
   ]
  },
  {
   "cell_type": "code",
   "execution_count": 116,
   "id": "f71e5ca2",
   "metadata": {},
   "outputs": [],
   "source": [
    "path = '../201801/vdtrafonetab_info_001.csv'\n",
    "df = pd.read_csv( path , header= None)\n",
    "path2 = '../201802/vdtrafonetab_info_001.csv'\n",
    "df2 = pd.read_csv( path2 , header= None)\n",
    "path3 = '../201803/vdtrafonetab_info_001.csv'\n",
    "df3 = pd.read_csv( path3 , header= None)"
   ]
  },
  {
   "cell_type": "code",
   "execution_count": 117,
   "id": "71eced5b",
   "metadata": {},
   "outputs": [
    {
     "name": "stdout",
     "output_type": "stream",
     "text": [
      "0        光復北路\n",
      "1      新生高架道路\n",
      "2      新生高架道路\n",
      "3       新光路一段\n",
      "4       新光路一段\n",
      "5       新光路一段\n",
      "6       新光路一段\n",
      "7    建國南北快速道路\n",
      "8    建國南北快速道路\n",
      "9      建國南路一段\n",
      "Name: 5, dtype: object\n",
      "0     6.0\n",
      "1     0.0\n",
      "2     0.0\n",
      "3     6.0\n",
      "4     7.0\n",
      "5     3.0\n",
      "6     2.0\n",
      "7     7.0\n",
      "8    15.0\n",
      "9     3.0\n",
      "Name: 10, dtype: float64\n",
      "0    洲美快速道路\n",
      "1    洲美快速道路\n",
      "2    洲美快速道路\n",
      "3    洲美快速道路\n",
      "4    洲美快速道路\n",
      "5    洲美快速道路\n",
      "6      環東大道\n",
      "7      環東大道\n",
      "8    華江大橋引道\n",
      "9    水源快速道路\n",
      "Name: 5, dtype: object\n",
      "0    11.0\n",
      "1    16.0\n",
      "2    10.0\n",
      "3     1.0\n",
      "4     9.0\n",
      "5     6.0\n",
      "6    16.0\n",
      "7    22.0\n",
      "8    14.0\n",
      "9     0.0\n",
      "Name: 10, dtype: float64\n",
      "0    建國南北快速道路\n",
      "1    建國南北快速道路\n",
      "2    建國南北快速道路\n",
      "3         三重路\n",
      "4         三重路\n",
      "5      市民大道三段\n",
      "6      市民大道三段\n",
      "7       南港路三段\n",
      "8       南港路三段\n",
      "9       南港路三段\n",
      "Name: 5, dtype: object\n",
      "0    4.0\n",
      "1    4.0\n",
      "2    2.0\n",
      "3    3.0\n",
      "4    2.0\n",
      "5    0.0\n",
      "6    4.0\n",
      "7    0.0\n",
      "8    0.0\n",
      "9    0.0\n",
      "Name: 10, dtype: float64\n"
     ]
    }
   ],
   "source": [
    "print(df[:10][5])\n",
    "print(df[:10][10])\n",
    "print(df2[:10][5])\n",
    "print(df2[:10][10])\n",
    "print(df3[:10][5])\n",
    "print(df3[:10][10])\n"
   ]
  },
  {
   "cell_type": "code",
   "execution_count": 98,
   "id": "7d11f519",
   "metadata": {},
   "outputs": [],
   "source": [
    "# RoadID = df[4] #道路路名碼\n",
    "# RoadName = df[5] #道路名稱\n",
    "# BIGVOLUME = df[8] #大車的流量\n",
    "# BIGSPEED = df[9] #大車的速率\n",
    "# CARVOLUME = df[10] #汽車的流量\n",
    "# CARSPEED = df[11] #汽車的速率\n",
    "# MOTORVOLUME = df[12] #機車的流量\n",
    "# MOTORSPEED = df[13] #機車的速率\n",
    "# FREESPD = df[22] #速限\n",
    "\n",
    "# RoadID = df2[4] #道路路名碼\n",
    "# RoadName = df2[5] #道路名稱\n",
    "# BIGVOLUME = df2[8] #大車的流量\n",
    "# BIGSPEED = df2[9] #大車的速率\n",
    "# CARVOLUME = df2[10] #汽車的流量\n",
    "# CARSPEED = df2[11] #汽車的速率\n",
    "# MOTORVOLUME = df2[12] #機車的流量\n",
    "# MOTORSPEED = df2[13] #機車的速率\n",
    "# FREESPD = df2[22] #速限\n"
   ]
  },
  {
   "cell_type": "code",
   "execution_count": 129,
   "id": "11f1f2b7",
   "metadata": {},
   "outputs": [
    {
     "name": "stdout",
     "output_type": "stream",
     "text": [
      "7 47 0\n",
      "[7, 7, 4]\n"
     ]
    }
   ],
   "source": [
    "# 建國南北快速道路道路代碼是200040(str)\n",
    "# print(RoadID[0])\n",
    "# print(list(RoadID).index('200040'))\n",
    "indexRoad = list(df[4]).index('200040')\n",
    "indexRoad2 = list(df2[4]).index('200040')\n",
    "indexRoad3 = list(df3[4]).index('200040')\n",
    "print(indexRoad, indexRoad2, indexRoad3)\n",
    "CarVolumeList = []\n",
    "CarVolumeList.append(int(df[10][indexRoad]))\n",
    "CarVolumeList.append(int(df2[10][indexRoad2]))\n",
    "CarVolumeList.append(int(df3[10][indexRoad3]))\n",
    "print(CarVolumeList)\n",
    "CarVolumeMonthList = [1, 2, 3]\n"
   ]
  },
  {
   "cell_type": "code",
   "execution_count": 130,
   "id": "c83d30ce",
   "metadata": {},
   "outputs": [
    {
     "data": {
      "image/png": "[encoded data removed]",
      "text/plain": [
       "<Figure size 300x600 with 1 Axes>"
      ]
     },
     "metadata": {},
     "output_type": "display_data"
    }
   ],
   "source": [
    "fig = plt.figure(figsize=(3,6))\n",
    "# plt.bar(RoadName[list(RoadID).index('200040')] , CARVOLUME[list(RoadID).index('200040')])\n",
    "plt.bar(CarVolumeMonthList , CarVolumeList) # range(len(CarVolumeList))\n",
    "plt.tick_params(axis='x', labelsize=8)\n",
    "# plt.xticks(rotation=-20) \n",
    "plt.xlabel(\"月份\")\n",
    "plt.ylabel(\"流量\") \n",
    "plt.title(\"2018年1~3月汽車流量: \"+df[5][indexRoad])\n",
    "plt.grid(True)\n",
    "fig.savefig('figure.png')"
   ]
  }
 ],
 "metadata": {
  "kernelspec": {
   "display_name": "Python 3.9.12 ('base')",
   "language": "python",
   "name": "python3"
  },
  "language_info": {
   "codemirror_mode": {
    "name": "ipython",
    "version": 3
   },
   "file_extension": ".py",
   "mimetype": "text/x-python",
   "name": "python",
   "nbconvert_exporter": "python",
   "pygments_lexer": "ipython3",
   "version": "3.9.13"
  },
  "vscode": {
   "interpreter": {
    "hash": "f98cae18be0e33df8f735a84fb8de9df3e47a9a4f956f129ac11a5619b22d1b1"
   }
  }
 },
 "nbformat": 4,
 "nbformat_minor": 5
}
