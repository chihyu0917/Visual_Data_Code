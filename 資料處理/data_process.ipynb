{
 "cells": [
  {
   "cell_type": "code",
   "execution_count": 1,
   "metadata": {},
   "outputs": [],
   "source": [
    "import pandas as pd\n",
    "import csv\n",
    "import numpy as np\n",
    "\n",
    "path = '/Volumes/LaCie/04_111project/data of project/201801/vdtrafonetab_info_001.csv'\n",
    "path2 = '/Volumes/LaCie/04_111project/data of project/201801/vdtrafonetab_info_002.csv'\n",
    "path3 = '/Volumes/LaCie/04_111project/data of project/201801/vdtrafonetab_info_003.csv'\n",
    "\n",
    "\n",
    "\n",
    "df = pd.read_csv(path , header= None)\n",
    "df2 = pd.read_csv(path2 , header= None)\n",
    "df3 = pd.read_csv(path3 , header= None)\n"
   ]
  },
  {
   "cell_type": "markdown",
   "metadata": {},
   "source": []
  },
  {
   "cell_type": "code",
   "execution_count": 2,
   "metadata": {},
   "outputs": [],
   "source": [
    "#去除掉不合邏輯的數據（速率不合理）\n",
    "df = df.drop(df[df[9] > 120.0].index)\n",
    "df = df.drop(df[df[11] > 150.0].index)\n",
    "df = df.drop(df[df[13] > 90.0].index)\n",
    "\n",
    "df2 = df2.drop(df2[df2[9] > 120.0].index)\n",
    "df2 = df2.drop(df2[df2[11] > 150.0].index)\n",
    "df2 = df2.drop(df2[df2[13] > 90.0].index)\n",
    "\n",
    "df3 = df3.drop(df3[df3[9] > 120.0].index)\n",
    "df3 = df3.drop(df3[df3[11] > 150.0].index)\n",
    "df3 = df3.drop(df3[df3[13] > 90.0].index)\n",
    "\n",
    "#設備X軸座標\n",
    "PositionLon = np.concatenate([df[2], df2[2], df3[2]])\n",
    "#設備Y軸座標\n",
    "PositionLat = np.concatenate([df[3], df2[3], df3[3]])\n",
    "#道路路名碼\n",
    "RoadID = np.concatenate([df[4], df2[4], df3[4]])\n",
    "#道路名稱\n",
    "RoadName = np.concatenate([df[5], df2[5], df3[5]])\n",
    "#大車的流量\n",
    "BIGVOLUME = np.concatenate([df[8], df2[8], df3[8]])\n",
    "#大車的速率\n",
    "BIGSPEED = np.concatenate([df[9], df2[9], df3[9]])\n",
    "#汽車的流量\n",
    "CARVOLUME = np.concatenate([df[10], df2[10], df3[10]])\n",
    "#汽車的速率\n",
    "CARSPEED = np.concatenate([df[11], df2[11], df3[11]])\n",
    "#機車的流量\n",
    "MOTORVOLUME = np.concatenate([df[12], df2[12], df3[12]])\n",
    "#機車的速率\n",
    "MOTORSPEED = np.concatenate([df[13], df2[13], df3[13]])\n",
    "#平均速率\n",
    "AVGSPEED = np.concatenate([df[14], df2[14], df3[14]])\n",
    "#速限\n",
    "FREESPD = np.concatenate([df[22], df2[22], df3[22]])\n",
    "#info更新時間\n",
    "InfoTime = np.concatenate([df[23], df2[23], df3[23]])\n",
    "#info更新日期\n",
    "InfoData = np.concatenate([df[24], df2[24], df3[24]])\n",
    "\n"
   ]
  },
  {
   "cell_type": "code",
   "execution_count": 4,
   "metadata": {},
   "outputs": [],
   "source": [
    "data = {'PositionLon': list(PositionLon), 'PositionLat': list(PositionLat), 'RoadID': list(RoadID), 'RoadName': list(RoadName), 'BIGVOLUME': list(BIGVOLUME), 'BIGSPEED': list(BIGSPEED), 'CARVOLUME': list(CARVOLUME), 'CARSPEED': list(CARSPEED), 'MOTORVOLUME': list(MOTORVOLUME), 'MOTORSPEED': list(MOTORSPEED), 'AVGSPEED': list(AVGSPEED), 'FREESPD': list(FREESPD), 'InfoTime': list(InfoTime), 'InfoData': list(InfoData) }\n",
    "df4 = pd.DataFrame(data)\n",
    "df4.to_csv( '/Volumes/LaCie/04_111project/processed_data/201801.csv', index = False, header = True, encoding='utf-8')"
   ]
  },
  {
   "cell_type": "code",
   "execution_count": null,
   "metadata": {},
   "outputs": [],
   "source": []
  }
 ],
 "metadata": {
  "kernelspec": {
   "display_name": "Python 3.10.7 64-bit",
   "language": "python",
   "name": "python3"
  },
  "language_info": {
   "codemirror_mode": {
    "name": "ipython",
    "version": 3
   },
   "file_extension": ".py",
   "mimetype": "text/x-python",
   "name": "python",
   "nbconvert_exporter": "python",
   "pygments_lexer": "ipython3",
   "version": "3.10.7"
  },
  "orig_nbformat": 4,
  "vscode": {
   "interpreter": {
    "hash": "aee8b7b246df8f9039afb4144a1f6fd8d2ca17a180786b69acc140d282b71a49"
   }
  }
 },
 "nbformat": 4,
 "nbformat_minor": 2
}
